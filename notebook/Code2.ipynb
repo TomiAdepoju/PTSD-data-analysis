{
 "cells": [
  {
   "cell_type": "code",
   "execution_count": null,
   "metadata": {},
   "outputs": [],
   "source": []
  }
 ],
 "metadata": {
  "kernelspec": {
   "display_name": "base",
   "language": "python",
   "name": "python3"
  },
  "language_info": {
   "name": "python",
   "version": "3.9.12 (main, Apr  4 2022, 05:22:27) [MSC v.1916 64 bit (AMD64)]"
  },
  "orig_nbformat": 4,
  "vscode": {
   "interpreter": {
    "hash": "f5b739fa80ca3e6a7c4525b9f0345200c4eba6a04360cac6ddd89b79de04c1b3"
   }
  }
 },
 "nbformat": 4,
 "nbformat_minor": 2
}
